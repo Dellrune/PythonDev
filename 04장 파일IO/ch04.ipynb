{
 "cells": [
  {
   "cell_type": "markdown",
   "metadata": {},
   "source": [
    "#### 점프투파이썬\n",
    "---\n",
    "04장 연습문제"
   ]
  },
  {
   "cell_type": "markdown",
   "metadata": {},
   "source": [
    "> Q1\n",
    "``` py\n",
    "    주어진 자연수가 홀수인지 짝수인지 판별해 주는 함수(is_odd)를 작성해 보자.\n",
    "```"
   ]
  },
  {
   "cell_type": "markdown",
   "metadata": {},
   "source": [
    "> Q2\n",
    "``` py\n",
    "    입력으로 들어오는 모든 수의 평균 값을 계산해 주는 함수를 작성해 보자. \n",
    "    (단 입력으로 들어오는 수의 개수는 정해져 있지 않다.)\n",
    "    ※ 평균 값을 구할 때 len 함수를 사용해 보자.\n",
    "```"
   ]
  },
  {
   "cell_type": "markdown",
   "metadata": {},
   "source": [
    "> Q3\n",
    "``` py\n",
    "    다음은 두 개의 숫자를 입력받아 더하여 돌려주는 프로그램이다.\n",
    "\n",
    "    input1 = input(\"첫번째 숫자를 입력하세요:\")\n",
    "    input2 = input(\"두번째 숫자를 입력하세요:\")\n",
    "\n",
    "    total = input1 + input2\n",
    "    print(\"두 수의 합은 %s 입니다\" % total)\n",
    "    이 프로그램을 수행해 보자.\n",
    "\n",
    "    첫번째 숫자를 입력하세요:3\n",
    "    두번째 숫자를 입력하세요:6\n",
    "    두 수의 합은 36 입니다\n",
    "    3과 6을 입력했을 때 9가 아닌 36이라는 결괏값을 돌려주었다. \n",
    "    이 프로그램의 오류를 수정해 보자.\n",
    "```"
   ]
  },
  {
   "cell_type": "markdown",
   "metadata": {},
   "source": [
    "> Q4\n",
    "``` py\n",
    "    다음 중 출력 결과가 다른 것 한 개를 골라 보자.\n",
    "\n",
    "    1. print(\"you\" \"need\" \"python\")\n",
    "    2. print(\"you\"+\"need\"+\"python\")\n",
    "    3. print(\"you\", \"need\", \"python\")\n",
    "    4. print(\"\".join([\"you\", \"need\", \"python\"]))\n",
    "```"
   ]
  },
  {
   "cell_type": "markdown",
   "metadata": {},
   "source": [
    "> Q5\n",
    "``` py\n",
    "    다음은 \"test.txt\"라는 파일에 \"Life is too short\" 문자열을 저장한 후 \n",
    "    다시 그 파일을 읽어서 출력하는 프로그램이다.\n",
    "\n",
    "    f1 = open(\"test.txt\", 'w')\n",
    "    f1.write(\"Life is too short\")\n",
    "\n",
    "    f2 = open(\"test.txt\", 'r')\n",
    "    print(f2.read())\n",
    "    이 프로그램은 우리가 예상한 \"Life is too short\"라는 문장을 출력하지 않는다. \n",
    "    우리가 예상한 값을 출력할 수 있도록 프로그램을 수정해 보자.\n",
    "```"
   ]
  },
  {
   "cell_type": "markdown",
   "metadata": {},
   "source": [
    "> Q6\n",
    "``` py\n",
    "    사용자의 입력을 파일(test.txt)에 저장하는 프로그램을 작성해 보자. \n",
    "    (단 프로그램을 다시 실행하더라도 기존에 작성한 내용을 유지하고 새로 입력한 내용을 추가해야 한다.)\n",
    "```"
   ]
  },
  {
   "cell_type": "markdown",
   "metadata": {},
   "source": [
    "> Q7\n",
    "``` py\n",
    "    다음과 같은 내용을 지닌 파일 test.txt가 있다. \n",
    "    이 파일의 내용 중 \"java\"라는 문자열을 \"python\"으로 바꾸어서 저장해 보자.\n",
    "\n",
    "    Life is too short\n",
    "    you need java\n",
    "    ※ replace 함수를 사용해 보자.\n",
    "```"
   ]
  }
 ],
 "metadata": {
  "interpreter": {
   "hash": "4aa7a001941c8b447200068b1d71a3924cf04f02fe096f0aa27a7230a4a7f943"
  },
  "kernelspec": {
   "display_name": "Python 3.10.1 64-bit",
   "language": "python",
   "name": "python3"
  },
  "language_info": {
   "codemirror_mode": {
    "name": "ipython",
    "version": 3
   },
   "file_extension": ".py",
   "mimetype": "text/x-python",
   "name": "python",
   "nbconvert_exporter": "python",
   "pygments_lexer": "ipython3",
   "version": "3.10.1"
  },
  "orig_nbformat": 4
 },
 "nbformat": 4,
 "nbformat_minor": 2
}
