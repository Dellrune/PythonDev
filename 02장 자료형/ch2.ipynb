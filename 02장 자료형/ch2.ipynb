{
 "cells": [
  {
   "cell_type": "markdown",
   "metadata": {},
   "source": [
    "##### 점프 투 파이썬\n",
    "---\n",
    "02장 연습문제"
   ]
  },
  {
   "cell_type": "markdown",
   "metadata": {},
   "source": [
    "> Q1    \n",
    "``` py\n",
    "    홍길동 씨의 과목별 점수는 다음과 같다. 홍길동 씨의 평균 점수를 구해 보자.\n",
    "\n",
    "    과목\t점수\n",
    "    국어\t80\n",
    "    영어\t75\n",
    "    수학\t55   \n",
    "```"
   ]
  },
  {
   "cell_type": "code",
   "execution_count": 7,
   "metadata": {},
   "outputs": [
    {
     "name": "stdout",
     "output_type": "stream",
     "text": [
      "홍길동 평균 점 \n",
      "70.0\n"
     ]
    }
   ],
   "source": [
    "kor = 80\n",
    "eng = 75\n",
    "mat = 55\n",
    "aver = (kor+eng+mat)/3\n",
    "print(\"홍길동 평균 점 \")\n",
    "print(aver)\n"
   ]
  },
  {
   "cell_type": "code",
   "execution_count": 8,
   "metadata": {},
   "outputs": [
    {
     "data": {
      "text/plain": [
       "3"
      ]
     },
     "execution_count": 8,
     "metadata": {},
     "output_type": "execute_result"
    }
   ],
   "source": [
    "subject = [80,70,60]\n",
    "total = subject[0]+subject[1]\n",
    "len(subject)"
   ]
  },
  {
   "cell_type": "code",
   "execution_count": 17,
   "metadata": {},
   "outputs": [
    {
     "name": "stdout",
     "output_type": "stream",
     "text": [
      "총점 : 30 평균 :  15.0\n"
     ]
    }
   ],
   "source": [
    "#사용자로부터 이름과 성적을 입력받는다.총점과 평균을 구해출력\n",
    "name = input(\"이름 입력\")\n",
    "socre1 = input()\n",
    "socre2 = input()\n",
    "\n",
    "총점=int(socre1)+int(socre2)\n",
    "avr = int(총점)/2\n",
    "평균=avr\n",
    "\n",
    "print(\"총점 :\", 총점, \"평균 : \", 평균)\n",
    "\n"
   ]
  },
  {
   "cell_type": "markdown",
   "metadata": {},
   "source": [
    "> Q2   \n",
    "``` py\n",
    "    자연수 13이 홀수인지 짝수인지 판별할 수 있는 방법에 대해 말해 보자.\n",
    "```"
   ]
  },
  {
   "cell_type": "code",
   "execution_count": 24,
   "metadata": {},
   "outputs": [
    {
     "name": "stdout",
     "output_type": "stream",
     "text": [
      "홀수\n"
     ]
    }
   ],
   "source": [
    "num = 14\n",
    "a = 13%2\n",
    "if a==1 :\n",
    "    print(\"홀수\")\n",
    "else :\n",
    "    print(\"짝수\")\n",
    " "
   ]
  },
  {
   "cell_type": "markdown",
   "metadata": {},
   "source": []
  },
  {
   "cell_type": "markdown",
   "metadata": {},
   "source": [
    "> Q3   \n",
    "``` py   \n",
    "    홍길동 씨의 주민등록번호는 881120-1068234이다.  \n",
    "    홍길동 씨의 주민등록번호를 연월일(YYYYMMDD) 부분과 그 뒤의 숫자 부분으로 나누어 출력해 보자.\n",
    "```"
   ]
  },
  {
   "cell_type": "code",
   "execution_count": 26,
   "metadata": {},
   "outputs": [
    {
     "ename": "NameError",
     "evalue": "name 'split' is not defined",
     "output_type": "error",
     "traceback": [
      "\u001b[1;31m---------------------------------------------------------------------------\u001b[0m",
      "\u001b[1;31mNameError\u001b[0m                                 Traceback (most recent call last)",
      "Input \u001b[1;32mIn [26]\u001b[0m, in \u001b[0;36m<module>\u001b[1;34m\u001b[0m\n\u001b[0;32m      1\u001b[0m str1 \u001b[38;5;241m=\u001b[39m \u001b[38;5;241m881120\u001b[39m\u001b[38;5;241m-\u001b[39m\u001b[38;5;241m1068234\u001b[39m\n\u001b[1;32m----> 2\u001b[0m s \u001b[38;5;241m=\u001b[39m \u001b[43msplit\u001b[49m(\u001b[38;5;241m5\u001b[39m,str1)\n\u001b[0;32m      3\u001b[0m \u001b[38;5;28mprint\u001b[39m(s)\n",
      "\u001b[1;31mNameError\u001b[0m: name 'split' is not defined"
     ]
    }
   ],
   "source": [
    "\n"
   ]
  },
  {
   "cell_type": "markdown",
   "metadata": {},
   "source": [
    "> Q4   \n",
    "``` py   \n",
    "    주민등록번호 뒷자리의 맨 첫 번째 숫자는 성별을 나타낸다.    \n",
    "    주민등록번호에서 성별을 나타내는 숫자를 출력해 보자.   \n",
    "```"
   ]
  },
  {
   "cell_type": "markdown",
   "metadata": {},
   "source": [
    "> Q5   \n",
    "``` py\n",
    "    다음과 같은 문자열 a:b:c:d가 있다.    \n",
    "    문자열의 replace 함수를 사용하여 a#b#c#d로 바꿔서 출력해 보자.   \n",
    "```"
   ]
  },
  {
   "cell_type": "markdown",
   "metadata": {},
   "source": [
    "> Q6.   \n",
    "``` py   \n",
    "    [1, 3, 5, 4, 2]라는 리스트를 [5, 4, 3, 2, 1]로 만들어보자.   \n",
    "```"
   ]
  },
  {
   "cell_type": "markdown",
   "metadata": {},
   "source": [
    "> Q7.   \n",
    "``` py   \n",
    "    ['Life', 'is', 'too', 'short'] 라는 리스트를 Life is too short라는 문자열로 만들어 출력해 보자.   \n",
    "```"
   ]
  },
  {
   "cell_type": "markdown",
   "metadata": {},
   "source": [
    "> Q8.   \n",
    "``` py   \n",
    "    (1,2,3)이라는 튜플에 4라는 값을 추가하여 (1,2,3,4)처럼 만들어 출력해 보자.   \n",
    "```"
   ]
  },
  {
   "cell_type": "markdown",
   "metadata": {},
   "source": [
    "> Q9.   \n",
    "``` py   \n",
    "    다음과 같은 딕셔너리 a가 있다. 다음 중 오류가 발생하는 경우는 어떤 경우인가?   \n",
    "    그리고 그 이유를 설명해 보자.   \n",
    "    >>> a = dict()   \n",
    "    >>> a   \n",
    "    {}   \n",
    "\n",
    "    다음 중 오류가 발생하는 경우를 고르고, 그 이유를 설명해 보자.   \n",
    "\n",
    "    1. a['name'] = 'python'   \n",
    "    2. a[('a',)] = 'python'   \n",
    "    3. a[[1]] = 'python'   \n",
    "    4. a[250] = 'python'   \n",
    "```"
   ]
  },
  {
   "cell_type": "markdown",
   "metadata": {},
   "source": [
    "> Q10   \n",
    "``` py   \n",
    "    딕셔너리 a에서 'B'에 해당되는 값을 추출해 보자.   \n",
    "\n",
    "    >>> a = {'A':90, 'B':80, 'C':70}   \n",
    "    ※ 딕셔너리의 pop 함수를 사용해 보자.   \n",
    "```"
   ]
  },
  {
   "cell_type": "markdown",
   "metadata": {},
   "source": [
    "> Q11   \n",
    "``` py   \n",
    "    a 리스트에서 중복 숫자를 제거해 보자.   \n",
    "\n",
    "    >>> a = [1, 1, 1, 2, 2, 3, 3, 3, 4, 4, 5]    \n",
    "    ※ 집합 자료형의 요솟값이 중복될 수 없다는 특징을 사용해 보자.    \n",
    "```"
   ]
  },
  {
   "cell_type": "markdown",
   "metadata": {},
   "source": [
    "> Q12   \n",
    "``` py   \n",
    "    파이썬은 다음처럼 동일한 값에 여러 개의 변수를 선언할 수 있다.    \n",
    "    다음과 같이 a, b 변수를 선언한 후 a의 두 번째 요솟값을 변경하면 b 값은 어떻게 될까?    \n",
    "    그리고 이런 결과가 오는 이유에 대해 설명해 보자.   \n",
    "\n",
    "    >>> a = b = [1, 2, 3]   \n",
    "    >>> a[1] = 4   \n",
    "    >>> print(b)   \n",
    "```"
   ]
  }
 ],
 "metadata": {
  "interpreter": {
   "hash": "4aa7a001941c8b447200068b1d71a3924cf04f02fe096f0aa27a7230a4a7f943"
  },
  "kernelspec": {
   "display_name": "Python 3.10.1 64-bit",
   "language": "python",
   "name": "python3"
  },
  "language_info": {
   "codemirror_mode": {
    "name": "ipython",
    "version": 3
   },
   "file_extension": ".py",
   "mimetype": "text/x-python",
   "name": "python",
   "nbconvert_exporter": "python",
   "pygments_lexer": "ipython3",
   "version": "3.10.1"
  },
  "orig_nbformat": 4
 },
 "nbformat": 4,
 "nbformat_minor": 2
}
